{
 "cells": [
  {
   "cell_type": "markdown",
   "metadata": {},
   "source": [
    "## part 2"
   ]
  },
  {
   "cell_type": "code",
   "execution_count": 1,
   "metadata": {},
   "outputs": [
    {
     "name": "stderr",
     "output_type": "stream",
     "text": [
      "Using TensorFlow backend.\n"
     ]
    }
   ],
   "source": [
    "from keras.datasets import boston_housing\n",
    "from keras.layers import Dense\n",
    "from keras.layers import Dropout\n",
    "from keras import models\n",
    "from keras import layers\n",
    "from keras import regularizers\n",
    "from keras.utils import to_categorical\n",
    "from sklearn.model_selection import train_test_split\n",
    "import matplotlib.pyplot as plt\n",
    "import numpy as np\n",
    "%matplotlib inline"
   ]
  },
  {
   "cell_type": "code",
   "execution_count": 2,
   "metadata": {},
   "outputs": [],
   "source": [
    "(train_data, train_targets), (test_data, test_targets) = boston_housing.load_data()"
   ]
  },
  {
   "cell_type": "code",
   "execution_count": 3,
   "metadata": {},
   "outputs": [],
   "source": [
    "mean = train_data.mean(axis=0)\n",
    "train_data -= mean\n",
    "std = train_data.std(axis=0)\n",
    "train_data /= std\n",
    "test_data -= mean\n",
    "test_data /= std"
   ]
  },
  {
   "cell_type": "code",
   "execution_count": 4,
   "metadata": {},
   "outputs": [],
   "source": [
    "def model1():\n",
    "    model = models.Sequential()\n",
    "    model.add(layers.Dense(64, activation='relu',\n",
    "                           input_shape=(train_data.shape[1],)))\n",
    "    model.add(layers.Dense(64, activation='relu'))\n",
    "    model.add(layers.Dense(1))\n",
    "    model.compile(optimizer='rmsprop', loss='mse')\n",
    "    return model"
   ]
  },
  {
   "cell_type": "code",
   "execution_count": 5,
   "metadata": {},
   "outputs": [
    {
     "name": "stdout",
     "output_type": "stream",
     "text": [
      "k =  0\n",
      "MSE:  [192.3809709103348, 25.019178568214517, 19.07579924827739, 16.54963091129345, 14.384110251683634, 13.87515034676711, 13.15383822313011, 12.061636638193574, 11.53137270107503, 11.398544764356902, 10.645747377709016, 10.926641562995648, 9.960936316862458, 10.615113403083372, 9.515874068918013, 9.811349114523422, 9.582434623703843, 8.94033506730246, 9.300290071738615, 8.860867946480939]\n",
      "k =  1\n",
      "MSE:  [185.04622614455914, 28.34494382302524, 20.697699797611588, 17.585358522988027, 15.887035396782576, 14.50893197561431, 13.352477976048249, 12.849644942167718, 12.292324120836064, 11.223283612607892, 10.796552622818457, 10.652357014602387, 10.370165493046512, 9.854436932789483, 10.474255542409962, 9.879470810253926, 9.55021676179007, 9.85379376239735, 9.701339001574874, 9.32022961587183]\n",
      "k =  2\n",
      "MSE:  [163.2524252179954, 24.677194156736633, 17.877981679195987, 15.49850696562915, 14.396175696663263, 12.66181419619144, 12.510225018745517, 11.840310482533514, 11.244474663934064, 10.439501500288605, 10.912714295078631, 10.057228124093994, 9.708557888884581, 9.934050644131935, 9.46096627424473, 9.469044951755857, 9.308071515118042, 8.925593490027865, 8.816459352936363, 8.307356975618369]\n",
      "k =  3\n",
      "MSE:  [180.68690977737583, 25.30066801895413, 18.582860455582743, 15.915049390442949, 13.600801138173175, 12.401035457249918, 11.970888217894853, 11.291505547598737, 10.99936431263092, 10.62545688155844, 10.484838696189819, 9.976857723574959, 9.620942842941385, 9.352125047570222, 9.359150148020639, 9.17379462422968, 9.434801955883394, 8.985039757918807, 8.472055602748046, 8.236136660746425]\n",
      "k =  4\n",
      "MSE:  [183.49958262983498, 29.711924256171628, 20.07401291431557, 16.045533501360005, 14.428997886725902, 12.78050615675386, 12.545888175453241, 11.770292377821534, 11.537469561962068, 10.855106312513884, 10.43365705875752, 10.442289356455849, 10.637955928217586, 9.75335373870661, 9.417512774077325, 9.612051924093295, 9.356228427697705, 9.555127816185411, 9.204980334996195, 9.01038123197565]\n",
      "k =  5\n",
      "MSE:  [182.23750222446705, 25.29445595814876, 17.6164369746865, 15.686671117520225, 13.081103797070242, 11.86966340426116, 11.332733542554536, 10.330470530507528, 9.817657734339036, 9.75829174667696, 9.559076756357431, 9.176149668658661, 9.097819975408358, 8.970818374389527, 8.747718197805934, 8.786353520802939, 8.529740822370423, 8.816322072665931, 8.265372167447072, 7.863332164791555]\n",
      "k =  6\n",
      "MSE:  [182.80506361847554, 27.53711392738735, 19.91703015972558, 16.798844107281603, 14.865214678302127, 13.899327332373515, 12.824840433382914, 12.357091189768603, 12.033018784127377, 11.253691414884328, 10.921972262741521, 10.786853029477902, 10.270057792736205, 9.440258343774696, 9.72834280006358, 9.543515333357261, 9.372233503158006, 9.29945468853808, 8.727048059514996, 8.278145916340161]\n",
      "k =  7\n",
      "MSE:  [211.64317261724517, 23.629323939060818, 17.026584584734486, 14.148062763170936, 12.565175571583206, 11.70398185828532, 10.831203169835524, 10.32135564010289, 9.801529646378835, 9.85074477291232, 9.345933341579908, 8.36259255029778, 8.448376421276237, 8.041148981274072, 8.065695691337869, 8.133425800270864, 7.691392546707573, 7.629470271921431, 7.354693437354319, 7.347318906308399]\n",
      "k =  8\n",
      "MSE:  [147.7138886964115, 20.452457439276518, 15.658587494277066, 13.893198068608898, 12.623508230474267, 11.627356487275271, 11.585015173990742, 11.108410031167026, 10.639843267816964, 10.473094097844026, 10.299124143602267, 10.134994211305898, 9.580870804331486, 9.69864204813648, 9.420170526815348, 9.37125993725772, 8.849585720240702, 9.146900788989624, 8.884392067512445, 8.736903748081154]\n",
      "k =  9\n",
      "MSE:  [154.04105252190382, 28.606300567766674, 21.237446922413124, 17.225089800056512, 15.774383178606033, 14.558554494473116, 13.411980526996338, 12.761530797604351, 11.427357470500523, 11.91215996178681, 10.949800797858599, 10.77007210377434, 9.900500006182313, 10.21965303109529, 9.654291161176294, 9.907000428559783, 9.229571594978891, 9.031428321197172, 9.305454907684739, 8.89844219257913]\n"
     ]
    }
   ],
   "source": [
    "k=10\n",
    "num_val_samples = len(train_data) // k\n",
    "num_epochs = 20\n",
    "all_mse = []\n",
    "for i in range(k):\n",
    "    val_data = train_data[i * num_val_samples: (i + 1) * num_val_samples]\n",
    "    val_targets = train_targets[i * num_val_samples: (i + 1) * num_val_samples]\n",
    "    partial_train_data = np.concatenate(\n",
    "        [train_data[:i * num_val_samples],\n",
    "         train_data[(i + 1) * num_val_samples:]],\n",
    "        axis=0)\n",
    "    partial_train_targets = np.concatenate(\n",
    "        [train_targets[:i * num_val_samples],\n",
    "         train_targets[(i + 1) * num_val_samples:]],\n",
    "        axis=0)\n",
    "\n",
    "    model = model1()\n",
    "    history = model.fit(partial_train_data, partial_train_targets,\n",
    "                        validation_data=(val_data, val_targets),\n",
    "                        epochs=num_epochs, batch_size=1, verbose=0)\n",
    "    mse = history.history['loss']\n",
    "    all_mse.append(mse)\n",
    "    print('k = ', i)\n",
    "    print('MSE: ', mse)"
   ]
  },
  {
   "cell_type": "code",
   "execution_count": 6,
   "metadata": {},
   "outputs": [
    {
     "data": {
      "image/png": "[encoded data removed]",
      "text/plain": [
       "<matplotlib.figure.Figure at 0x7f41e12359e8>"
      ]
     },
     "metadata": {},
     "output_type": "display_data"
    }
   ],
   "source": [
    "average_mse = [np.mean([x[i] for x in all_mse]) for i in range(num_epochs)]\n",
    "plt.plot(range(1, len(average_mse) + 1), average_mse)\n",
    "plt.xlabel('epoch')\n",
    "plt.ylabel('validation set MSE')\n",
    "plt.show()"
   ]
  },
  {
   "cell_type": "code",
   "execution_count": 7,
   "metadata": {},
   "outputs": [
    {
     "data": {
      "text/plain": [
       "8.485911535879362"
      ]
     },
     "execution_count": 7,
     "metadata": {},
     "output_type": "execute_result"
    }
   ],
   "source": [
    "min(average_mse)"
   ]
  },
  {
   "cell_type": "code",
   "execution_count": 8,
   "metadata": {},
   "outputs": [
    {
     "name": "stdout",
     "output_type": "stream",
     "text": [
      "k =  0\n",
      "k =  1\n",
      "k =  2\n",
      "k =  3\n",
      "k =  4\n",
      "k =  5\n",
      "k =  6\n",
      "k =  7\n",
      "k =  8\n",
      "k =  9\n"
     ]
    }
   ],
   "source": [
    "# more epochs\n",
    "k=10\n",
    "num_val_samples = len(train_data) // k\n",
    "num_epochs = 100\n",
    "all_mse2 = []\n",
    "for i in range(k):\n",
    "    val_data = train_data[i * num_val_samples: (i + 1) * num_val_samples]\n",
    "    val_targets = train_targets[i * num_val_samples: (i + 1) * num_val_samples]\n",
    "    partial_train_data = np.concatenate(\n",
    "        [train_data[:i * num_val_samples],\n",
    "         train_data[(i + 1) * num_val_samples:]],\n",
    "        axis=0)\n",
    "    partial_train_targets = np.concatenate(\n",
    "        [train_targets[:i * num_val_samples],\n",
    "         train_targets[(i + 1) * num_val_samples:]],\n",
    "        axis=0)\n",
    "\n",
    "    model = model1()\n",
    "    history = model.fit(partial_train_data, partial_train_targets,\n",
    "                        validation_data=(val_data, val_targets),\n",
    "                        epochs=num_epochs, batch_size=1, verbose=0)\n",
    "    mse2 = history.history['loss']\n",
    "    all_mse2.append(mse2)\n",
    "    print('k = ', i)"
   ]
  },
  {
   "cell_type": "code",
   "execution_count": 9,
   "metadata": {},
   "outputs": [
    {
     "data": {
      "image/png": "[encoded data removed]",
      "text/plain": [
       "<matplotlib.figure.Figure at 0x7f417f0beba8>"
      ]
     },
     "metadata": {},
     "output_type": "display_data"
    }
   ],
   "source": [
    "average_mse2 = [np.mean([x[i] for x in all_mse2]) for i in range(num_epochs)]\n",
    "plt.plot(range(1, len(average_mse2) + 1), average_mse2)\n",
    "plt.xlabel('epoch')\n",
    "plt.ylabel('validation set MSE')\n",
    "plt.show()"
   ]
  },
  {
   "cell_type": "code",
   "execution_count": 10,
   "metadata": {},
   "outputs": [
    {
     "data": {
      "text/plain": [
       "3.81541455489545"
      ]
     },
     "execution_count": 10,
     "metadata": {},
     "output_type": "execute_result"
    }
   ],
   "source": [
    "min(average_mse2)"
   ]
  },
  {
   "cell_type": "code",
   "execution_count": 11,
   "metadata": {},
   "outputs": [],
   "source": [
    "# implement dropout\n",
    "def model2():\n",
    "    model = models.Sequential()\n",
    "    model.add(layers.Dense(64, activation='relu',\n",
    "                           input_shape=(train_data.shape[1],)))\n",
    "    model.add(layers.Dropout(0.5))\n",
    "    model.add(layers.Dense(64, activation='relu'))\n",
    "    model.add(layers.Dropout(0.5))\n",
    "    model.add(layers.Dense(64, activation='relu'))\n",
    "    model.add(layers.Dropout(0.5))\n",
    "    model.add(layers.Dense(1))\n",
    "    model.compile(optimizer='rmsprop', loss='mse')\n",
    "    return model"
   ]
  },
  {
   "cell_type": "code",
   "execution_count": 12,
   "metadata": {},
   "outputs": [
    {
     "name": "stdout",
     "output_type": "stream",
     "text": [
      "k =  0\n",
      "k =  1\n",
      "k =  2\n",
      "k =  3\n",
      "k =  4\n",
      "k =  5\n",
      "k =  6\n",
      "k =  7\n",
      "k =  8\n",
      "k =  9\n"
     ]
    }
   ],
   "source": [
    "k=10\n",
    "num_val_samples = len(train_data) // k\n",
    "num_epochs = 100\n",
    "all_mse3 = []\n",
    "for i in range(k):\n",
    "    print('k = ', i)\n",
    "    val_data = train_data[i * num_val_samples: (i + 1) * num_val_samples]\n",
    "    val_targets = train_targets[i * num_val_samples: (i + 1) * num_val_samples]\n",
    "    partial_train_data = np.concatenate(\n",
    "        [train_data[:i * num_val_samples],\n",
    "         train_data[(i + 1) * num_val_samples:]],\n",
    "        axis=0)\n",
    "    partial_train_targets = np.concatenate(\n",
    "        [train_targets[:i * num_val_samples],\n",
    "         train_targets[(i + 1) * num_val_samples:]],\n",
    "        axis=0)\n",
    "\n",
    "    model = model2()\n",
    "    history = model.fit(partial_train_data, partial_train_targets,\n",
    "                        validation_data=(val_data, val_targets),\n",
    "                        epochs=num_epochs, batch_size=1, verbose=0)\n",
    "    mse3 = history.history['loss']\n",
    "    all_mse3.append(mse3)"
   ]
  },
  {
   "cell_type": "code",
   "execution_count": 13,
   "metadata": {},
   "outputs": [
    {
     "data": {
      "image/png": "[encoded data removed]",
      "text/plain": [
       "<matplotlib.figure.Figure at 0x7f4177c0a0f0>"
      ]
     },
     "metadata": {},
     "output_type": "display_data"
    }
   ],
   "source": [
    "average_mse3 = [np.mean([x[i] for x in all_mse3]) for i in range(num_epochs)]\n",
    "plt.plot(range(1, len(average_mse3) + 1), average_mse3)\n",
    "plt.xlabel('epoch')\n",
    "plt.ylabel('validation MSE')\n",
    "plt.show()"
   ]
  },
  {
   "cell_type": "code",
   "execution_count": 14,
   "metadata": {},
   "outputs": [
    {
     "data": {
      "text/plain": [
       "30.94259649584501"
      ]
     },
     "execution_count": 14,
     "metadata": {},
     "output_type": "execute_result"
    }
   ],
   "source": [
    "min(average_mse3)"
   ]
  },
  {
   "cell_type": "code",
   "execution_count": 15,
   "metadata": {},
   "outputs": [],
   "source": [
    "# regularization\n",
    "def model3():\n",
    "    model = models.Sequential()\n",
    "    model.add(layers.Dense(64, activation='relu', kernel_regularizer=regularizers.l1(0.001),\n",
    "                           input_shape=(train_data.shape[1],)))\n",
    "    model.add(layers.Dense(64, activation='relu', kernel_regularizer=regularizers.l1(0.001)))\n",
    "    model.add(layers.Dense(64, activation='relu', kernel_regularizer=regularizers.l1(0.001)))\n",
    "    model.add(layers.Dense(64, activation='relu', kernel_regularizer=regularizers.l1(0.001)))\n",
    "    model.add(layers.Dense(1))\n",
    "    model.compile(optimizer='rmsprop', loss='mse')\n",
    "    return model"
   ]
  },
  {
   "cell_type": "code",
   "execution_count": 16,
   "metadata": {},
   "outputs": [
    {
     "name": "stdout",
     "output_type": "stream",
     "text": [
      "k =  0\n",
      "k =  1\n",
      "k =  2\n",
      "k =  3\n",
      "k =  4\n",
      "k =  5\n",
      "k =  6\n",
      "k =  7\n",
      "k =  8\n",
      "k =  9\n"
     ]
    }
   ],
   "source": [
    "k=10\n",
    "num_val_samples = len(train_data) // k\n",
    "num_epochs = 100\n",
    "all_mse4 = []\n",
    "for i in range(k):\n",
    "    print('k = ', i)\n",
    "    val_data = train_data[i * num_val_samples: (i + 1) * num_val_samples]\n",
    "    val_targets = train_targets[i * num_val_samples: (i + 1) * num_val_samples]\n",
    "    partial_train_data = np.concatenate(\n",
    "        [train_data[:i * num_val_samples],\n",
    "         train_data[(i + 1) * num_val_samples:]],\n",
    "        axis=0)\n",
    "    partial_train_targets = np.concatenate(\n",
    "        [train_targets[:i * num_val_samples],\n",
    "         train_targets[(i + 1) * num_val_samples:]],\n",
    "        axis=0)\n",
    "\n",
    "    model = model3()\n",
    "    history = model.fit(partial_train_data, partial_train_targets,\n",
    "                        validation_data=(val_data, val_targets),\n",
    "                        epochs=num_epochs, batch_size=1, verbose=0)\n",
    "    mse4 = history.history['loss']\n",
    "    all_mse4.append(mse4)"
   ]
  },
  {
   "cell_type": "code",
   "execution_count": 17,
   "metadata": {},
   "outputs": [
    {
     "data": {
      "image/png": "[encoded data removed]",
      "text/plain": [
       "<matplotlib.figure.Figure at 0x7f417762e2b0>"
      ]
     },
     "metadata": {},
     "output_type": "display_data"
    }
   ],
   "source": [
    "average_mse4 = [np.mean([x[i] for x in all_mse4]) for i in range(num_epochs)]\n",
    "plt.plot(range(1, len(average_mse4) + 1), average_mse4)\n",
    "plt.xlabel('epoch')\n",
    "plt.ylabel('validation set MSE')\n",
    "plt.show()"
   ]
  },
  {
   "cell_type": "code",
   "execution_count": 19,
   "metadata": {},
   "outputs": [
    {
     "data": {
      "text/plain": [
       "4.006326791349348"
      ]
     },
     "execution_count": 19,
     "metadata": {},
     "output_type": "execute_result"
    }
   ],
   "source": [
    "min(average_mse4)"
   ]
  },
  {
   "cell_type": "markdown",
   "metadata": {},
   "source": [
    "It seems that model1 with epochs=100 has the best performance so far, so this is my final model."
   ]
  },
  {
   "cell_type": "code",
   "execution_count": 20,
   "metadata": {},
   "outputs": [
    {
     "name": "stdout",
     "output_type": "stream",
     "text": [
      "Epoch 1/100\n",
      "404/404 [==============================] - 2s 5ms/step - loss: 166.4258\n",
      "Epoch 2/100\n",
      "404/404 [==============================] - 1s 3ms/step - loss: 26.7794\n",
      "Epoch 3/100\n",
      "404/404 [==============================] - 1s 3ms/step - loss: 19.0591\n",
      "Epoch 4/100\n",
      "404/404 [==============================] - 1s 3ms/step - loss: 16.4586\n",
      "Epoch 5/100\n",
      "404/404 [==============================] - 1s 3ms/step - loss: 15.1173\n",
      "Epoch 6/100\n",
      "404/404 [==============================] - 1s 3ms/step - loss: 13.6402\n",
      "Epoch 7/100\n",
      "404/404 [==============================] - 1s 3ms/step - loss: 12.4003\n",
      "Epoch 8/100\n",
      "404/404 [==============================] - 1s 3ms/step - loss: 12.0549\n",
      "Epoch 9/100\n",
      "404/404 [==============================] - 1s 3ms/step - loss: 10.6428\n",
      "Epoch 10/100\n",
      "404/404 [==============================] - 1s 3ms/step - loss: 10.6210\n",
      "Epoch 11/100\n",
      "404/404 [==============================] - 1s 3ms/step - loss: 9.7901\n",
      "Epoch 12/100\n",
      "404/404 [==============================] - 1s 3ms/step - loss: 9.7058\n",
      "Epoch 13/100\n",
      "404/404 [==============================] - 1s 3ms/step - loss: 8.8853\n",
      "Epoch 14/100\n",
      "404/404 [==============================] - 1s 3ms/step - loss: 9.1785\n",
      "Epoch 15/100\n",
      "404/404 [==============================] - 1s 3ms/step - loss: 8.8933\n",
      "Epoch 16/100\n",
      "404/404 [==============================] - 1s 3ms/step - loss: 8.7160\n",
      "Epoch 17/100\n",
      "404/404 [==============================] - 1s 3ms/step - loss: 8.4004\n",
      "Epoch 18/100\n",
      "404/404 [==============================] - 1s 3ms/step - loss: 8.7284\n",
      "Epoch 19/100\n",
      "404/404 [==============================] - 1s 3ms/step - loss: 8.4903\n",
      "Epoch 20/100\n",
      "404/404 [==============================] - 1s 3ms/step - loss: 8.3213\n",
      "Epoch 21/100\n",
      "404/404 [==============================] - 1s 3ms/step - loss: 8.1388\n",
      "Epoch 22/100\n",
      "404/404 [==============================] - 1s 3ms/step - loss: 7.9043\n",
      "Epoch 23/100\n",
      "404/404 [==============================] - 1s 3ms/step - loss: 7.6259\n",
      "Epoch 24/100\n",
      "404/404 [==============================] - 1s 3ms/step - loss: 7.5446\n",
      "Epoch 25/100\n",
      "404/404 [==============================] - 1s 3ms/step - loss: 7.5909\n",
      "Epoch 26/100\n",
      "404/404 [==============================] - 1s 3ms/step - loss: 7.3515\n",
      "Epoch 27/100\n",
      "404/404 [==============================] - 1s 3ms/step - loss: 7.2386\n",
      "Epoch 28/100\n",
      "404/404 [==============================] - 1s 3ms/step - loss: 7.6096\n",
      "Epoch 29/100\n",
      "404/404 [==============================] - 1s 3ms/step - loss: 7.0961\n",
      "Epoch 30/100\n",
      "404/404 [==============================] - 1s 3ms/step - loss: 7.0648\n",
      "Epoch 31/100\n",
      "404/404 [==============================] - 1s 3ms/step - loss: 7.1599\n",
      "Epoch 32/100\n",
      "404/404 [==============================] - 1s 3ms/step - loss: 7.2974\n",
      "Epoch 33/100\n",
      "404/404 [==============================] - 1s 3ms/step - loss: 6.9839\n",
      "Epoch 34/100\n",
      "404/404 [==============================] - 1s 3ms/step - loss: 6.8994\n",
      "Epoch 35/100\n",
      "404/404 [==============================] - 1s 3ms/step - loss: 6.7744\n",
      "Epoch 36/100\n",
      "404/404 [==============================] - 1s 3ms/step - loss: 6.7050\n",
      "Epoch 37/100\n",
      "404/404 [==============================] - 1s 3ms/step - loss: 6.4334\n",
      "Epoch 38/100\n",
      "404/404 [==============================] - 1s 3ms/step - loss: 6.4739\n",
      "Epoch 39/100\n",
      "404/404 [==============================] - 1s 3ms/step - loss: 6.0137\n",
      "Epoch 40/100\n",
      "404/404 [==============================] - 1s 3ms/step - loss: 6.2486\n",
      "Epoch 41/100\n",
      "404/404 [==============================] - 1s 3ms/step - loss: 6.2616\n",
      "Epoch 42/100\n",
      "404/404 [==============================] - 1s 3ms/step - loss: 6.1979\n",
      "Epoch 43/100\n",
      "404/404 [==============================] - 1s 3ms/step - loss: 6.3625\n",
      "Epoch 44/100\n",
      "404/404 [==============================] - 1s 3ms/step - loss: 5.9291\n",
      "Epoch 45/100\n",
      "404/404 [==============================] - 1s 3ms/step - loss: 5.8260\n",
      "Epoch 46/100\n",
      "404/404 [==============================] - 1s 3ms/step - loss: 6.1196\n",
      "Epoch 47/100\n",
      "404/404 [==============================] - 1s 3ms/step - loss: 6.0817\n",
      "Epoch 48/100\n",
      "404/404 [==============================] - 1s 3ms/step - loss: 6.0008\n",
      "Epoch 49/100\n",
      "404/404 [==============================] - 1s 3ms/step - loss: 5.7313\n",
      "Epoch 50/100\n",
      "404/404 [==============================] - 1s 3ms/step - loss: 5.5044\n",
      "Epoch 51/100\n",
      "404/404 [==============================] - 1s 3ms/step - loss: 5.5390\n",
      "Epoch 52/100\n",
      "404/404 [==============================] - 1s 3ms/step - loss: 5.7741\n",
      "Epoch 53/100\n",
      "404/404 [==============================] - 1s 3ms/step - loss: 5.7179\n",
      "Epoch 54/100\n",
      "404/404 [==============================] - 1s 3ms/step - loss: 5.5809\n",
      "Epoch 55/100\n",
      "404/404 [==============================] - 1s 3ms/step - loss: 5.4381\n",
      "Epoch 56/100\n",
      "404/404 [==============================] - 1s 3ms/step - loss: 5.3669\n",
      "Epoch 57/100\n",
      "404/404 [==============================] - 1s 3ms/step - loss: 5.2333\n",
      "Epoch 58/100\n",
      "404/404 [==============================] - 1s 3ms/step - loss: 5.3228\n",
      "Epoch 59/100\n",
      "404/404 [==============================] - 1s 3ms/step - loss: 5.1183\n",
      "Epoch 60/100\n",
      "404/404 [==============================] - 1s 3ms/step - loss: 5.2455\n",
      "Epoch 61/100\n",
      "404/404 [==============================] - 1s 3ms/step - loss: 5.0808\n",
      "Epoch 62/100\n",
      "404/404 [==============================] - 1s 3ms/step - loss: 5.2923\n",
      "Epoch 63/100\n",
      "404/404 [==============================] - 1s 3ms/step - loss: 4.8547\n",
      "Epoch 64/100\n",
      "404/404 [==============================] - 1s 3ms/step - loss: 4.9351\n",
      "Epoch 65/100\n",
      "404/404 [==============================] - 1s 3ms/step - loss: 4.8074\n",
      "Epoch 66/100\n",
      "404/404 [==============================] - 1s 3ms/step - loss: 4.8993\n",
      "Epoch 67/100\n",
      "404/404 [==============================] - 1s 3ms/step - loss: 4.9643\n",
      "Epoch 68/100\n",
      "404/404 [==============================] - 1s 3ms/step - loss: 4.8641\n",
      "Epoch 69/100\n",
      "404/404 [==============================] - 1s 3ms/step - loss: 4.9474\n",
      "Epoch 70/100\n",
      "404/404 [==============================] - 1s 3ms/step - loss: 4.9069\n",
      "Epoch 71/100\n",
      "404/404 [==============================] - 1s 3ms/step - loss: 4.6613\n",
      "Epoch 72/100\n",
      "404/404 [==============================] - 1s 3ms/step - loss: 4.8787\n",
      "Epoch 73/100\n",
      "404/404 [==============================] - 1s 3ms/step - loss: 4.6977\n",
      "Epoch 74/100\n",
      "404/404 [==============================] - 1s 3ms/step - loss: 4.9473\n",
      "Epoch 75/100\n",
      "404/404 [==============================] - 1s 3ms/step - loss: 4.4860\n",
      "Epoch 76/100\n",
      "404/404 [==============================] - 1s 3ms/step - loss: 4.2784\n",
      "Epoch 77/100\n",
      "404/404 [==============================] - 1s 3ms/step - loss: 4.6379\n",
      "Epoch 78/100\n",
      "404/404 [==============================] - 1s 3ms/step - loss: 4.2199\n",
      "Epoch 79/100\n",
      "404/404 [==============================] - 1s 3ms/step - loss: 4.3130\n",
      "Epoch 80/100\n",
      "404/404 [==============================] - 1s 3ms/step - loss: 4.4936\n",
      "Epoch 81/100\n",
      "404/404 [==============================] - 1s 3ms/step - loss: 4.6114\n",
      "Epoch 82/100\n",
      "404/404 [==============================] - 1s 3ms/step - loss: 4.3280\n",
      "Epoch 83/100\n",
      "404/404 [==============================] - 1s 3ms/step - loss: 4.2314\n",
      "Epoch 84/100\n",
      "404/404 [==============================] - 1s 3ms/step - loss: 4.3190\n",
      "Epoch 85/100\n",
      "404/404 [==============================] - 1s 3ms/step - loss: 4.2007\n",
      "Epoch 86/100\n",
      "404/404 [==============================] - 1s 3ms/step - loss: 3.7724\n",
      "Epoch 87/100\n",
      "404/404 [==============================] - 1s 3ms/step - loss: 3.9865\n",
      "Epoch 88/100\n",
      "404/404 [==============================] - 1s 3ms/step - loss: 4.1878\n",
      "Epoch 89/100\n",
      "404/404 [==============================] - 1s 3ms/step - loss: 4.2413\n",
      "Epoch 90/100\n",
      "404/404 [==============================] - 1s 3ms/step - loss: 4.1506\n",
      "Epoch 91/100\n",
      "404/404 [==============================] - 1s 3ms/step - loss: 3.9549\n",
      "Epoch 92/100\n",
      "404/404 [==============================] - 1s 3ms/step - loss: 3.9226\n",
      "Epoch 93/100\n",
      "404/404 [==============================] - 1s 3ms/step - loss: 4.0375\n",
      "Epoch 94/100\n",
      "404/404 [==============================] - 1s 3ms/step - loss: 4.2057\n",
      "Epoch 95/100\n",
      "404/404 [==============================] - 1s 3ms/step - loss: 3.7961\n",
      "Epoch 96/100\n",
      "404/404 [==============================] - 1s 3ms/step - loss: 3.6874\n",
      "Epoch 97/100\n",
      "404/404 [==============================] - 1s 3ms/step - loss: 4.1721\n",
      "Epoch 98/100\n",
      "404/404 [==============================] - 1s 3ms/step - loss: 4.0440\n",
      "Epoch 99/100\n"
     ]
    },
    {
     "name": "stdout",
     "output_type": "stream",
     "text": [
      "404/404 [==============================] - 1s 3ms/step - loss: 3.5410\n",
      "Epoch 100/100\n",
      "404/404 [==============================] - 1s 3ms/step - loss: 4.0403\n"
     ]
    }
   ],
   "source": [
    "model = model1()\n",
    "history = model.fit(train_data, train_targets, epochs=100, batch_size=1)"
   ]
  },
  {
   "cell_type": "code",
   "execution_count": 21,
   "metadata": {},
   "outputs": [
    {
     "name": "stdout",
     "output_type": "stream",
     "text": [
      "102/102 [==============================] - 0s 4ms/step\n",
      "test mse score is  12.6289810479856\n"
     ]
    }
   ],
   "source": [
    "test_mse_score = model.evaluate(test_data, test_targets)\n",
    "print(\"test mse score is \", test_mse_score)"
   ]
  },
  {
   "cell_type": "code",
   "execution_count": null,
   "metadata": {},
   "outputs": [],
   "source": []
  }
 ],
 "metadata": {
  "kernelspec": {
   "display_name": "Python 3",
   "language": "python",
   "name": "python3"
  },
  "language_info": {
   "codemirror_mode": {
    "name": "ipython",
    "version": 3
   },
   "file_extension": ".py",
   "mimetype": "text/x-python",
   "name": "python",
   "nbconvert_exporter": "python",
   "pygments_lexer": "ipython3",
   "version": "3.5.2"
  }
 },
 "nbformat": 4,
 "nbformat_minor": 2
}
